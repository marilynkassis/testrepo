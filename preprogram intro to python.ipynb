{
 "cells": [
  {
   "cell_type": "code",
   "execution_count": 1,
   "id": "d474d98f",
   "metadata": {},
   "outputs": [
    {
     "name": "stdout",
     "output_type": "stream",
     "text": [
      "5\n"
     ]
    }
   ],
   "source": [
    "a=345\n",
    "print(a%10)"
   ]
  },
  {
   "cell_type": "code",
   "execution_count": 5,
   "id": "09bfe43f",
   "metadata": {},
   "outputs": [
    {
     "name": "stdout",
     "output_type": "stream",
     "text": [
      "89 is the value of the temperature in degrees Fahrenheit and is converted to 31.666666666666668 degrees Celsius\n"
     ]
    }
   ],
   "source": [
    "Fahrenheit=89\n",
    "Celsius = ((Fahrenheit - 32) * 5 )/9\n",
    "print(Fahrenheit, \"is the value of the temperature in degrees Fahrenheit and is converted to\", Celsius, \"degrees Celsius\")\n"
   ]
  },
  {
   "cell_type": "code",
   "execution_count": 1,
   "id": "668ef528",
   "metadata": {},
   "outputs": [
    {
     "name": "stdout",
     "output_type": "stream",
     "text": [
      "Type the amount of Fahrenheit degrees, please 78\n",
      "The amount of Celsius degrees for the given value is 25.555555555555557\n"
     ]
    }
   ],
   "source": [
    "f = input(\"Type the amount of Fahrenheit degrees, please \")\n",
    "f = float(f)\n",
    "c = (f-32)*5/9\n",
    "print(\"The amount of Celsius degrees for the given value is\", c)\n"
   ]
  },
  {
   "cell_type": "code",
   "execution_count": null,
   "id": "0b33c878",
   "metadata": {},
   "outputs": [],
   "source": []
  }
 ],
 "metadata": {
  "kernelspec": {
   "display_name": "Python 3 (ipykernel)",
   "language": "python",
   "name": "python3"
  },
  "language_info": {
   "codemirror_mode": {
    "name": "ipython",
    "version": 3
   },
   "file_extension": ".py",
   "mimetype": "text/x-python",
   "name": "python",
   "nbconvert_exporter": "python",
   "pygments_lexer": "ipython3",
   "version": "3.11.3"
  }
 },
 "nbformat": 4,
 "nbformat_minor": 5
}
